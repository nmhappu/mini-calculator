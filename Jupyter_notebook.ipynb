{
 "cells": [
  {
   "cell_type": "markdown",
   "metadata": {},
   "source": [
    "Textbook 319 - 32: Write a program to check if a given number is an Armstrong number or not."
   ]
  },
  {
   "cell_type": "code",
   "execution_count": 4,
   "metadata": {},
   "outputs": [
    {
     "name": "stdout",
     "output_type": "stream",
     "text": [
      "407 is an Armstrong Number.\n"
     ]
    }
   ],
   "source": [
    "# Note: If a 3 digit number is equal to the sum of the cubes of its each digit, then it is an Armstrong Number.\n",
    "\n",
    "a = int(input(\"Input a 3 digit Number: \"))\n",
    "temp = a\n",
    "sum = 0\n",
    "\n",
    "while (temp > 0):\n",
    "    digit = temp % 10\n",
    "    sum += digit ** 3\n",
    "    temp //= 10\n",
    "\n",
    "if (a == sum):\n",
    "    print(a, \"is an Armstrong Number.\")\n",
    "else:\n",
    "    print(a, \"is not an Armstrong Number.\")"
   ]
  },
  {
   "cell_type": "markdown",
   "metadata": {},
   "source": [
    "33: Write a program to check if a given number is a palindrome number or not. |\n",
    "        Example: 12321"
   ]
  },
  {
   "cell_type": "code",
   "execution_count": null,
   "metadata": {},
   "outputs": [],
   "source": [
    "# ~ A Palindrome number's reversed number is same as the number.\n",
    "\n",
    "a = int(input(\"Input a number: \"))\n",
    "initial = a\n",
    "rev = 0\n",
    "\n",
    "while (initial > 0):\n",
    "    dig = initial % 10\n",
    "    rev = rev*10 + dig\n",
    "    initial = initial // 10\n",
    "\n",
    "if (a == rev):\n",
    "    print(\"Number\",a,\"is a Palindrome.\")\n",
    "else:\n",
    "    print(\"Number\",a,\"is not a Palindrome.\")"
   ]
  }
 ],
 "metadata": {
  "kernelspec": {
   "display_name": "Python 3.10.7 64-bit",
   "language": "python",
   "name": "python3"
  },
  "language_info": {
   "codemirror_mode": {
    "name": "ipython",
    "version": 3
   },
   "file_extension": ".py",
   "mimetype": "text/x-python",
   "name": "python",
   "nbconvert_exporter": "python",
   "pygments_lexer": "ipython3",
   "version": "3.10.7"
  },
  "orig_nbformat": 4,
  "vscode": {
   "interpreter": {
    "hash": "09bd51c65e3967470b51ee3918780014dc6560b5e31a11d14c6c57b5ea25010f"
   }
  }
 },
 "nbformat": 4,
 "nbformat_minor": 2
}
